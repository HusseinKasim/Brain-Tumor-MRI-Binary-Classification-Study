{
  "nbformat": 4,
  "nbformat_minor": 0,
  "metadata": {
    "colab": {
      "provenance": [],
      "authorship_tag": "ABX9TyNQJDJZshOKVPu/kJkyjU9+",
      "include_colab_link": true
    },
    "kernelspec": {
      "name": "python3",
      "display_name": "Python 3"
    },
    "language_info": {
      "name": "python"
    },
    "accelerator": "GPU",
    "gpuClass": "standard"
  },
  "cells": [
    {
      "cell_type": "markdown",
      "metadata": {
        "id": "view-in-github",
        "colab_type": "text"
      },
      "source": [
        "<a href=\"https://colab.research.google.com/github/HusseinKasim/Brain-Tumor-MRI-Binary-Classification-Study/blob/main/Brain_Tumor_MRI_Binary_Classification_Study_Hussein_Kasim.ipynb\" target=\"_parent\"><img src=\"https://colab.research.google.com/assets/colab-badge.svg\" alt=\"Open In Colab\"/></a>"
      ]
    },
    {
      "cell_type": "code",
      "execution_count": null,
      "metadata": {
        "id": "pjR64i2HXcrV"
      },
      "outputs": [],
      "source": [
        "import os\n",
        "import torch\n",
        "import torch.nn as nn\n",
        "import torch.nn.functional as F\n",
        "from torch.utils.data import DataLoader\n",
        "import numpy as np\n",
        "import torchvision.transforms as tt\n",
        "from torchvision.utils import make_grid\n",
        "from torchvision.datasets import ImageFolder\n",
        "import matplotlib.pyplot as plt\n",
        "from google.colab import drive\n",
        "import zipfile\n",
        "import sklearn.metrics"
      ]
    },
    {
      "cell_type": "code",
      "source": [
        "drive.mount('/content/drive')\n",
        "\n",
        "with zipfile.ZipFile(\"drive/MyDrive/Brain Tumor Split (0-1).zip\", \"r\") as zip_ref:\n",
        "  zip_ref.extractall()\n",
        "\n",
        "\n",
        "  # 80-20 dataset code\n",
        "  # with zipfile.ZipFile(\"drive/MyDrive/Brain Tumor Split (0-1) 20%.zip\", \"r\") as zip_ref:\n",
        "  #  zip_ref.extractall()"
      ],
      "metadata": {
        "colab": {
          "base_uri": "https://localhost:8080/"
        },
        "id": "leAdO4UlXgDU",
        "outputId": "f3dde1c6-d651-490b-e254-f6ce11a6753f"
      },
      "execution_count": null,
      "outputs": [
        {
          "output_type": "stream",
          "name": "stdout",
          "text": [
            "Mounted at /content/drive\n"
          ]
        }
      ]
    },
    {
      "cell_type": "code",
      "source": [
        "data_dir = 'Brain Tumor Split (0-1)'\n",
        "\n",
        "# 80-20 dataset code\n",
        "# data_dir = 'Brain Tumor Split (0-1) 20%'\n",
        "\n",
        "\n",
        "# Prints all the directories in the dataset\n",
        "print(\"Directories in the dataset: \")\n",
        "print(os.listdir(data_dir))\n",
        "\n",
        "# Prints all directories under /train (non-tumor images folder 0 and tumor images folder 1)\n",
        "print(\"\\ntrain directories: \")\n",
        "classes = os.listdir(data_dir  + \"/train\")\n",
        "print(classes)\n",
        "\n",
        "# Prints all directories under /validation (non-tumor images folder 0 and tumor images folder 1)\n",
        "print(\"\\nvalidation directories: \")\n",
        "classes = os.listdir(data_dir  + \"/validation\")\n",
        "print(classes)"
      ],
      "metadata": {
        "id": "JWg46FhJXiHz",
        "colab": {
          "base_uri": "https://localhost:8080/"
        },
        "outputId": "e57b258f-0781-4b95-b7da-c63058c4c89d"
      },
      "execution_count": null,
      "outputs": [
        {
          "output_type": "stream",
          "name": "stdout",
          "text": [
            "Directories in the dataset: \n",
            "['train', 'validation']\n",
            "\n",
            "train directories: \n",
            "['0', '1']\n",
            "\n",
            "validation directories: \n",
            "['0', '1']\n"
          ]
        }
      ]
    },
    {
      "cell_type": "code",
      "source": [
        "batch_size = 16 # or 32 (both give the same mean and standard deviation because same dataset)\n",
        "\n",
        "# Transforms convert the data from PIL images to tensors\n",
        "train_tfms = tt.Compose([tt.ToTensor()])\n",
        "valid_tfms = tt.Compose([tt.ToTensor()])\n",
        "\n",
        "\n",
        "# Apply transforms\n",
        "train_ds = ImageFolder(data_dir+'/train', train_tfms)\n",
        "valid_ds = ImageFolder(data_dir+'/validation', valid_tfms)\n",
        "\n",
        "\n",
        "# PyTorch data loaders\n",
        "train_dl = DataLoader(train_ds, batch_size, shuffle=True, num_workers=2, pin_memory=True)\n",
        "valid_dl = DataLoader(valid_ds, batch_size, num_workers=2, pin_memory=True)"
      ],
      "metadata": {
        "id": "SnIJpPCmmpOU"
      },
      "execution_count": null,
      "outputs": []
    },
    {
      "cell_type": "code",
      "source": [
        "# Calculate the mean and standard deviation (which are used in data normalization)\n",
        "\n",
        "def batch_mean_and_sd(loader):\n",
        "  cnt = 0\n",
        "  fst_moment = torch.empty(3)\n",
        "  snd_moment = torch.empty(3)\n",
        "\n",
        "  for images, _ in loader:\n",
        "    b, c, h, w = images.shape\n",
        "    nb_pixels = b * h * w\n",
        "    sum_ = torch.sum(images, dim=[0,2,3])\n",
        "    sum_of_squares = torch.sum(images ** 2, dim=[0,2,3])\n",
        "    fst_moment = (cnt * fst_moment + sum_) / (cnt + nb_pixels)\n",
        "    snd_moment = (cnt * snd_moment + sum_of_squares) / (cnt + nb_pixels)\n",
        "    cnt += nb_pixels\n",
        "  \n",
        "\n",
        "  mean, std = fst_moment,  torch.sqrt(snd_moment- fst_moment ** 2)\n",
        "  return mean,std\n",
        "train_mean, train_std = batch_mean_and_sd(train_dl)\n",
        "valid_mean, valid_std = batch_mean_and_sd(valid_dl)\n",
        "print(\"Training dataset mean and standard deviation: \")\n",
        "print(train_mean, train_std)\n",
        "\n",
        "print(\"\\nValidation dataset mean and standard deviation: \")\n",
        "print(valid_mean, valid_std)"
      ],
      "metadata": {
        "id": "GtO91qJSp3WV",
        "colab": {
          "base_uri": "https://localhost:8080/"
        },
        "outputId": "eb4cbe0c-9a84-4db3-efbc-f763b0696d1e"
      },
      "execution_count": null,
      "outputs": [
        {
          "output_type": "stream",
          "name": "stdout",
          "text": [
            "Training dataset mean and standard deviation: \n",
            "tensor([0.1235, 0.1235, 0.1235]) tensor([0.2630, 0.2630, 0.2630])\n",
            "\n",
            "Validation dataset mean and standard deviation: \n",
            "tensor([0.1235, 0.1235, 0.1235]) tensor([0.2649, 0.2649, 0.2649])\n"
          ]
        }
      ]
    },
    {
      "cell_type": "code",
      "source": [
        "# For 90-10 split:\n",
        "# Training dataset mean and standard deviation: \n",
        "# tensor([0.1235, 0.1235, 0.1235]) tensor([0.2630, 0.2630, 0.2630])\n",
        "\n",
        "# Validation dataset mean and standard deviation: \n",
        " #tensor([0.1235, 0.1235, 0.1235]) tensor([0.2649, 0.2649, 0.2649])\n",
        "\n",
        "\n",
        "# For 80-20 split:\n",
        "# Training dataset mean and standard deviation: \n",
        "# tensor([0.1232, 0.1232, 0.1232]) tensor([0.2627, 0.2627, 0.2627]) \n",
        "\n",
        "# Validation dataset mean and standard deviation: \n",
        "# tensor([0.1246, 0.1246, 0.1246]) tensor([0.2651, 0.2651, 0.2651])"
      ],
      "metadata": {
        "id": "sMawWHyQgNdg"
      },
      "execution_count": null,
      "outputs": []
    },
    {
      "cell_type": "code",
      "source": [
        "# Data transforms (normalization & data augmentation)\n",
        "train_stats = ((0.1235, 0.1235, 0.1235), (0.2630, 0.2630, 0.2630))\n",
        "valid_stats = ((0.1235, 0.1235, 0.1235), (0.2649, 0.2649, 0.2649))\n",
        "\n",
        "\n",
        "# Apply new transforms\n",
        "train_tfms = tt.Compose([tt.RandomCrop(240, padding=4, padding_mode='reflect'), tt.RandomHorizontalFlip(),\n",
        "                         tt.ToTensor(), tt.Normalize(*train_stats,inplace=True)])\n",
        "valid_tfms = tt.Compose([tt.RandomCrop(240, padding=4, padding_mode='reflect'), tt.RandomHorizontalFlip(),\n",
        "                         tt.ToTensor(), tt.Normalize(*valid_stats)])\n",
        "\n",
        "# Load datasets (with new transforms)\n",
        "train_ds = ImageFolder(data_dir+'/train', train_tfms)\n",
        "valid_ds = ImageFolder(data_dir+'/validation', valid_tfms)"
      ],
      "metadata": {
        "id": "BIqgkTcRXiwn"
      },
      "execution_count": null,
      "outputs": []
    },
    {
      "cell_type": "code",
      "source": [
        "# batch size for training and validation\n",
        "batch_size = 16 # or 32 depending on the experiment\n",
        "\n",
        "# PyTorch data loaders\n",
        "train_dl = DataLoader(train_ds, batch_size, shuffle=True, num_workers=2, pin_memory=True)\n",
        "valid_dl = DataLoader(valid_ds, batch_size, num_workers=2, pin_memory=True)\n",
        "\n",
        "\n",
        "def get_default_device():\n",
        "    # Pick GPU if available, else CPU\n",
        "    if torch.cuda.is_available():\n",
        "        return torch.device('cuda')\n",
        "    else:\n",
        "        return torch.device('cpu')\n",
        "    \n",
        "def to_device(data, device):\n",
        "    # Move tensor to chosen device\n",
        "    if isinstance(data, (list,tuple)):\n",
        "        return [to_device(x, device) for x in data]\n",
        "    return data.to(device, non_blocking=True)\n",
        "\n",
        "class DeviceDataLoader():\n",
        "    # Wrap a dataloader to move data to a device\n",
        "    def __init__(self, dl, device):\n",
        "        self.dl = dl\n",
        "        self.device = device\n",
        "        \n",
        "    def __iter__(self):\n",
        "        # Yield a batch of data after moving it to device\n",
        "        for b in self.dl: \n",
        "            yield to_device(b, self.device)\n",
        "\n",
        "    def __len__(self):\n",
        "        # Number of batches\n",
        "        return len(self.dl)\n",
        "\n",
        "device = get_default_device()\n",
        "\n",
        "train_dl = DeviceDataLoader(train_dl, device)\n",
        "valid_dl = DeviceDataLoader(valid_dl, device)"
      ],
      "metadata": {
        "id": "84oC4dFOXj9J"
      },
      "execution_count": null,
      "outputs": []
    },
    {
      "cell_type": "code",
      "source": [
        "# List of predictions\n",
        "preds_list = []   \n",
        "\n",
        "# List of labels (targets)\n",
        "actual_list = []\n",
        "\n",
        "\n",
        "# Calculates the predictions from probabilities, move them to the CPU, and store them in a NumPy array\n",
        "def predictions(outputs):\n",
        "   _, preds = torch.max(outputs, dim=1) # Produces max value from outputs(discarded) and index of max value from outputs (0 or 1)\n",
        "   preds = preds.cpu()\n",
        "   predsNP = preds.numpy()\n",
        "   return predsNP\n",
        "\n",
        "\n",
        "class ImageClassificationBase(nn.Module):\n",
        "    def training_step(self, batch):\n",
        "        images, labels = batch \n",
        "        out = self(images)                  # Generate Predictions out = [pred_0_val, pred_1_val]\n",
        "        loss = F.cross_entropy(out, labels) # Calculate Loss\n",
        "        return loss\n",
        "    \n",
        "    def validation_step(self, batch):\n",
        "        images, labels = batch \n",
        "        out = self(images)                    # Generate Predictions out = [pred_0_val, pred_1_val]\n",
        "        loss = F.cross_entropy(out, labels)   # Calculate Loss\n",
        "        pred_batch = predictions(out)        \n",
        "        for i in pred_batch:\n",
        "         preds_list.append(i)                 # Calculate Predictions List\n",
        "        labels = labels.cpu()              \n",
        "        for i in labels:\n",
        "          actual_list.append(i)               # Calculate Labels List\n",
        "        return {'val_loss': loss.detach()} \n",
        "        \n",
        "    def validation_epoch_end(self, outputs):\n",
        "        batch_losses = [x['val_loss'] for x in outputs]\n",
        "        epoch_loss = torch.stack(batch_losses).mean()                       # Combine losses\n",
        "        actual_listNP = np.array(actual_list)\n",
        "        preds_listNP = np.array(preds_list)\n",
        "        acc = sklearn.metrics.accuracy_score(actual_listNP, preds_listNP)       # Calculate Epoch Accuracy Score\n",
        "        er = 1-acc                                                              # Calculate the Error Rate Score\n",
        "        ps = sklearn.metrics.precision_score(actual_listNP, preds_listNP, zero_division=1)       # Calculate Epoch Precision Score\n",
        "        rs = sklearn.metrics.recall_score(actual_listNP, preds_listNP, zero_division=1)          # Calculate Epoch Recall Score\n",
        "        cm = sklearn.metrics.confusion_matrix(actual_listNP, preds_listNP)      # Calculate Epoch Confusion Matrix\n",
        "        preds_list.clear()\n",
        "        actual_list.clear()\n",
        "        return {'val_loss': epoch_loss.item(), 'acc': acc, 'ps': ps, 'rs': rs, 'er': er, 'cm': cm}\n",
        "  \n",
        "    def epoch_end(self, epoch, result):\n",
        "        print(\"Epoch [{}]\".format(epoch))\n",
        "        print(\"Accuracy: {:.3f}, Error Rate: {:.3f}, Precision: {:.3f}, Recall: {:.3f}\".format(result['acc'], result['er'], result['ps'], result['rs'] ))\n",
        "        print(\"Last Learning Rate: {:.3f}, Training Loss: {:.3f}, Validation Loss: {:.3f}\".format(result['lrs'][-1], result['train_loss'], result['val_loss']))\n",
        "        print(\"Confusion Matrix: \\n {} \\n\\n\".format(result['cm']))"
      ],
      "metadata": {
        "id": "KfyovyHVXm6W"
      },
      "execution_count": null,
      "outputs": []
    },
    {
      "cell_type": "code",
      "source": [
        "def conv_block(in_channels, out_channels, pool=False):\n",
        "    layers = [nn.Conv2d(in_channels, out_channels, kernel_size=3, padding=1), \n",
        "              nn.BatchNorm2d(out_channels), \n",
        "              nn.ReLU(inplace=True)]\n",
        "    if pool: layers.append(nn.MaxPool2d(2))\n",
        "    return nn.Sequential(*layers)\n",
        "\n",
        "class ResNet(ImageClassificationBase):\n",
        "    def __init__(self, in_channels, num_classes):\n",
        "        super().__init__()\n",
        "        \n",
        "        self.conv1 = conv_block(in_channels, 64)\n",
        "        self.conv2 = conv_block(64, 128, pool=True)\n",
        "        self.res1 = nn.Sequential(conv_block(128, 128), conv_block(128, 128))\n",
        "        \n",
        "        self.conv3 = conv_block(128, 256, pool=True)\n",
        "        self.conv4 = conv_block(256, 512, pool=True)\n",
        "        self.res2 = nn.Sequential(conv_block(512, 512), conv_block(512, 512))\n",
        "        \n",
        "        self.classifier = nn.Sequential(nn.MaxPool2d(4), \n",
        "                                        nn.Flatten(), \n",
        "                                        nn.Dropout(0.2),\n",
        "                                        nn.Linear(25088, num_classes))\n",
        "        \n",
        "    def forward(self, xb):\n",
        "        out = self.conv1(xb)\n",
        "        out = self.conv2(out)\n",
        "        out = self.res1(out) + out\n",
        "        out = self.conv3(out)\n",
        "        out = self.conv4(out)\n",
        "        out = self.res2(out) + out\n",
        "        out = self.classifier(out)\n",
        "        return out\n",
        "\n",
        "\n",
        "model = to_device(ResNet(3, 2), device)\n",
        "model"
      ],
      "metadata": {
        "id": "WpmJEHS8Xoge"
      },
      "execution_count": null,
      "outputs": []
    },
    {
      "cell_type": "code",
      "source": [
        "@torch.no_grad()\n",
        "def evaluate(model, val_loader):\n",
        "    model.eval()\n",
        "    outputs = [model.validation_step(batch) for batch in val_loader]\n",
        "    return model.validation_epoch_end(outputs)\n",
        "\n",
        "def get_lr(optimizer):\n",
        "    for param_group in optimizer.param_groups:\n",
        "        return param_group['lr']\n",
        "\n",
        "\n",
        "\n",
        "# Training and Validation\n",
        "def fit_one_cycle(epochs, max_lr, model, train_loader, val_loader, \n",
        "                  weight_decay=0, grad_clip=None, opt_func=torch.optim.SGD):\n",
        "    torch.cuda.empty_cache()\n",
        "    history = []   \n",
        "    # Optimizer with weight decay\n",
        "    optimizer = opt_func(model.parameters(), max_lr, weight_decay=weight_decay)\n",
        "    # One-cycle learning rate scheduler\n",
        "    sched = torch.optim.lr_scheduler.OneCycleLR(optimizer, max_lr, epochs=epochs, \n",
        "                                                steps_per_epoch=len(train_loader)) \n",
        "    for epoch in range(epochs):\n",
        "        # Training Phase \n",
        "        model.train()\n",
        "        train_losses = []\n",
        "        lrs = []\n",
        "\n",
        "        for batch in train_loader:\n",
        "          # Training\n",
        "            loss = model.training_step(batch)\n",
        "            train_losses.append(loss)\n",
        "            loss.backward() # Gradient calculation\n",
        "\n",
        "            # Gradient clipping\n",
        "            if grad_clip: \n",
        "                nn.utils.clip_grad_value_(model.parameters(), grad_clip)\n",
        "            \n",
        "            optimizer.step() # Model's parameters updated\n",
        "            optimizer.zero_grad() # Gradients set to zero\n",
        "            \n",
        "            # Record & update learning rate\n",
        "            lrs.append(get_lr(optimizer))\n",
        "            sched.step()\n",
        "        \n",
        "        # Validation phase\n",
        "        result = evaluate(model, val_loader)\n",
        "        result['train_loss'] = torch.stack(train_losses).mean().item()\n",
        "        result['lrs'] = lrs\n",
        "        model.epoch_end(epoch, result)\n",
        "        history.append(result)\n",
        "    return history"
      ],
      "metadata": {
        "id": "SRmZgYHuXp_l"
      },
      "execution_count": null,
      "outputs": []
    },
    {
      "cell_type": "code",
      "source": [
        "history = [evaluate(model, valid_dl)]\n",
        "history"
      ],
      "metadata": {
        "id": "dHpBLJsxXrHn"
      },
      "execution_count": null,
      "outputs": []
    },
    {
      "cell_type": "code",
      "source": [
        "epochs = 10 # or 20 or 30\n",
        "max_lr = 0.01 # or 0.05 \n",
        "grad_clip = 0.1\n",
        "weight_decay = 1e-4\n",
        "opt_func = torch.optim.Adam"
      ],
      "metadata": {
        "id": "ilqEH7nsXsL7"
      },
      "execution_count": null,
      "outputs": []
    },
    {
      "cell_type": "code",
      "source": [
        "history += fit_one_cycle(epochs, max_lr, model, train_dl, valid_dl, \n",
        "                             grad_clip=grad_clip, \n",
        "                             weight_decay=weight_decay, \n",
        "                             opt_func=opt_func)"
      ],
      "metadata": {
        "id": "misGYNBIXsb_"
      },
      "execution_count": null,
      "outputs": []
    },
    {
      "cell_type": "code",
      "source": [
        "def plot_accuracy(history):\n",
        "    accuracies = [x['acc'] for x in history]\n",
        "    plt.plot(accuracies, '-x')\n",
        "    plt.xlabel('Epoch')\n",
        "    plt.ylabel('Accuracy')\n",
        "    plt.title('Accuracy vs. No. of Epochs');\n",
        "\n",
        "\n",
        "plot_accuracy(history)"
      ],
      "metadata": {
        "id": "2Ks3P1Q4Xt0r"
      },
      "execution_count": null,
      "outputs": []
    },
    {
      "cell_type": "code",
      "source": [
        "def plot_error_rate(history):\n",
        "    error_rates = [x['er'] for x in history]\n",
        "    plt.plot(error_rates, '-x')\n",
        "    plt.xlabel('Epoch')\n",
        "    plt.ylabel('Error Rate')\n",
        "    plt.title('Error Rate vs. No. of Epochs');\n",
        "\n",
        "\n",
        "plot_error_rate(history)"
      ],
      "metadata": {
        "id": "OjMJA2uXXuff"
      },
      "execution_count": null,
      "outputs": []
    },
    {
      "cell_type": "code",
      "source": [
        "def plot_precision(history):\n",
        "    precision_scores = [x['ps'] for x in history]\n",
        "    plt.plot(precision_scores, '-x')\n",
        "    plt.xlabel('Epoch')\n",
        "    plt.ylabel('Precision')\n",
        "    plt.title('Precision vs. No. of Epochs');\n",
        "\n",
        "\n",
        "plot_precision(history)"
      ],
      "metadata": {
        "id": "PUGcKIJtXvUj"
      },
      "execution_count": null,
      "outputs": []
    },
    {
      "cell_type": "code",
      "source": [
        "def plot_recall(history):\n",
        "    recall_scores = [x['rs'] for x in history]\n",
        "    plt.plot(recall_scores, '-x')\n",
        "    plt.xlabel('Epoch')\n",
        "    plt.ylabel('Recall')\n",
        "    plt.title('Recall vs. No. of Epochs');\n",
        "\n",
        "\n",
        "plot_recall(history)\n"
      ],
      "metadata": {
        "id": "bUGIdlDSXwIb"
      },
      "execution_count": null,
      "outputs": []
    },
    {
      "cell_type": "code",
      "source": [
        "def plot_losses(history):\n",
        "    train_losses = [x.get('train_loss') for x in history]\n",
        "    val_losses = [x['val_loss'] for x in history]\n",
        "    plt.plot(train_losses, '-bx')\n",
        "    plt.plot(val_losses, '-rx')\n",
        "    plt.xlabel('Epoch')\n",
        "    plt.ylabel('Loss')\n",
        "    plt.legend(['Training', 'Validation'])\n",
        "    plt.title('Loss vs. No. of Epochs');\n",
        "\n",
        "\n",
        "plot_losses(history)"
      ],
      "metadata": {
        "id": "Zsc9Q0v7Xw63"
      },
      "execution_count": null,
      "outputs": []
    },
    {
      "cell_type": "code",
      "source": [
        "def plot_lrs(history):\n",
        "    lrs = np.concatenate([x.get('lrs', []) for x in history])\n",
        "    plt.plot(lrs)\n",
        "    plt.xlabel('Batch No.')\n",
        "    plt.ylabel('Learning Rate')\n",
        "    plt.title('Learning Rate vs. Batch No.');\n",
        "\n",
        "\n",
        "plot_lrs(history)"
      ],
      "metadata": {
        "id": "rpHBWhl7q4dz"
      },
      "execution_count": null,
      "outputs": []
    },
    {
      "cell_type": "code",
      "source": [
        "def predict_image(img, model):\n",
        "    xb = to_device(img.unsqueeze(0), device)  # Convert to a batch of 1\n",
        "    yb = model(xb)\n",
        "    _, preds  = torch.max(yb, dim=1)\n",
        "    return train_ds.classes[preds[0].item()]\n",
        "\n",
        "# Non-Tumor Image Example\n",
        "img, label = valid_ds[25]\n",
        "plt.imshow(img.permute(1, 2, 0).clamp(0, 1))\n",
        "print(\"No Tumor: 0 \\t\\t Tumor: 1\")\n",
        "print('Actual Value:', train_ds.classes[label], ', Predicted Value:', predict_image(img, model))"
      ],
      "metadata": {
        "id": "bfPbVvh6XS96"
      },
      "execution_count": null,
      "outputs": []
    },
    {
      "cell_type": "code",
      "source": [
        "# Tumor Image Example \n",
        "img, label = valid_ds[250]\n",
        "plt.imshow(img.permute(1, 2, 0).clamp(0, 1))\n",
        "print(\"No Tumor: 0 \\t\\t Tumor: 1\")\n",
        "print('Actual Value:', train_ds.classes[label], ', Predicted Value:', predict_image(img, model))"
      ],
      "metadata": {
        "id": "uBQ9KhB9yA51"
      },
      "execution_count": null,
      "outputs": []
    }
  ]
}